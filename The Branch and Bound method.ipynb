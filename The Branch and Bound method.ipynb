{
 "cells": [
  {
   "cell_type": "code",
   "execution_count": 18,
   "id": "542395dc",
   "metadata": {},
   "outputs": [],
   "source": [
    "using MosekTools, JuMP"
   ]
  },
  {
   "cell_type": "code",
   "execution_count": 21,
   "id": "b0492d9f",
   "metadata": {},
   "outputs": [
    {
     "data": {
      "text/latex": [
       "$$ \\begin{aligned}\n",
       "\\max\\quad & x_{1} + 10 x_{2}\\\\\n",
       "\\text{Subject to} \\quad & x_{1} \\geq 0.0\\\\\n",
       " & x_{2} \\geq 0.0\\\\\n",
       " & x_{1} + x_{2} \\leq 2.1\\\\\n",
       "\\end{aligned} $$"
      ]
     },
     "metadata": {},
     "output_type": "display_data"
    },
    {
     "name": "stdout",
     "output_type": "stream",
     "text": [
      "Problem\n",
      "  Name                   :                 \n",
      "  Objective sense        : maximize        \n",
      "  Type                   : LO (linear optimization problem)\n",
      "  Constraints            : 3               \n",
      "  Affine conic cons.     : 0               \n",
      "  Disjunctive cons.      : 0               \n",
      "  Cones                  : 0               \n",
      "  Scalar variables       : 2               \n",
      "  Matrix variables       : 0               \n",
      "  Integer variables      : 0               \n",
      "\n",
      "Optimizer started.\n",
      "Presolve started.\n",
      "Eliminator started.\n",
      "Freed constraints in eliminator : 0\n",
      "Eliminator terminated.\n",
      "Eliminator - tries                  : 1                 time                   : 0.00            \n",
      "Lin. dep.  - tries                  : 0                 time                   : 0.00            \n",
      "Lin. dep.  - number                 : 0               \n",
      "Presolve terminated. Time: 0.00    \n",
      "Optimizer terminated. Time: 0.02    \n",
      "\n"
     ]
    }
   ],
   "source": [
    "# Define the model\n",
    "m = Model(Mosek.Optimizer)\n",
    "\n",
    "@variable(m, x[1:2]);\n",
    "@constraint(m, x[1]+x[2]<=2.1)\n",
    "@constraint(m, x[1]>=0)\n",
    "@constraint(m, x[2]>=0)\n",
    "# Add the constraint\n",
    "@objective(m,Max, x[1]+10*x[2])\n",
    "print(m)\n",
    "optimize!(m)"
   ]
  },
  {
   "cell_type": "code",
   "execution_count": 22,
   "id": "94ad6e27",
   "metadata": {},
   "outputs": [
    {
     "data": {
      "text/plain": [
       "2-element Vector{Float64}:\n",
       " 0.0\n",
       " 2.1"
      ]
     },
     "execution_count": 22,
     "metadata": {},
     "output_type": "execute_result"
    }
   ],
   "source": [
    "value.(x)"
   ]
  },
  {
   "cell_type": "code",
   "execution_count": 23,
   "id": "b0b9728c",
   "metadata": {},
   "outputs": [
    {
     "data": {
      "text/latex": [
       "$$ \\begin{aligned}\n",
       "\\max\\quad & x_{1} + 10 x_{2}\\\\\n",
       "\\text{Subject to} \\quad & x_{1} \\geq 0.0\\\\\n",
       " & x_{2} \\geq 0.0\\\\\n",
       " & x_{1} + x_{2} \\leq 2.1\\\\\n",
       " & x_{2} \\leq 2.0\\\\\n",
       "\\end{aligned} $$"
      ]
     },
     "metadata": {},
     "output_type": "display_data"
    },
    {
     "name": "stdout",
     "output_type": "stream",
     "text": [
      "Problem\n",
      "  Name                   :                 \n",
      "  Objective sense        : maximize        \n",
      "  Type                   : LO (linear optimization problem)\n",
      "  Constraints            : 4               \n",
      "  Affine conic cons.     : 0               \n",
      "  Disjunctive cons.      : 0               \n",
      "  Cones                  : 0               \n",
      "  Scalar variables       : 2               \n",
      "  Matrix variables       : 0               \n",
      "  Integer variables      : 0               \n",
      "\n",
      "Optimizer started.\n",
      "Presolve started.\n",
      "Eliminator started.\n",
      "Freed constraints in eliminator : 0\n",
      "Eliminator terminated.\n",
      "Eliminator - tries                  : 1                 time                   : 0.00            \n",
      "Lin. dep.  - tries                  : 0                 time                   : 0.00            \n",
      "Lin. dep.  - number                 : 0               \n",
      "Presolve terminated. Time: 0.00    \n",
      "Optimizer terminated. Time: 0.00    \n",
      "\n"
     ]
    }
   ],
   "source": [
    "# Define the model\n",
    "m = Model(Mosek.Optimizer)\n",
    "\n",
    "@variable(m, x[1:2]);\n",
    "@constraint(m, x[1]+x[2]<=2.1)\n",
    "@constraint(m, x[1]>=0)\n",
    "@constraint(m, x[2]>=0)\n",
    "@constraint(m, x[2]<=2)\n",
    "# Add the constraint\n",
    "@objective(m,Max, x[1]+10*x[2])\n",
    "print(m)\n",
    "optimize!(m)"
   ]
  },
  {
   "cell_type": "code",
   "execution_count": 24,
   "id": "ebb3fa30",
   "metadata": {},
   "outputs": [
    {
     "data": {
      "text/plain": [
       "2-element Vector{Float64}:\n",
       " 0.10000000000000009\n",
       " 2.0"
      ]
     },
     "execution_count": 24,
     "metadata": {},
     "output_type": "execute_result"
    }
   ],
   "source": [
    "value.(x)"
   ]
  },
  {
   "cell_type": "code",
   "execution_count": 27,
   "id": "5a69c895",
   "metadata": {},
   "outputs": [
    {
     "data": {
      "text/latex": [
       "$$ \\begin{aligned}\n",
       "\\max\\quad & x_{1} + 10 x_{2}\\\\\n",
       "\\text{Subject to} \\quad & x_{1} \\geq 0.0\\\\\n",
       " & x_{2} \\geq 0.0\\\\\n",
       " & x_{2} \\geq 3.0\\\\\n",
       " & x_{1} + x_{2} \\leq 2.1\\\\\n",
       "\\end{aligned} $$"
      ]
     },
     "metadata": {},
     "output_type": "display_data"
    },
    {
     "name": "stdout",
     "output_type": "stream",
     "text": [
      "Problem\n",
      "  Name                   :                 \n",
      "  Objective sense        : maximize        \n",
      "  Type                   : LO (linear optimization problem)\n",
      "  Constraints            : 4               \n",
      "  Affine conic cons.     : 0               \n",
      "  Disjunctive cons.      : 0               \n",
      "  Cones                  : 0               \n",
      "  Scalar variables       : 2               \n",
      "  Matrix variables       : 0               \n",
      "  Integer variables      : 0               \n",
      "\n",
      "Optimizer started.\n",
      "Presolve started.\n",
      "Eliminator - tries                  : 0                 time                   : 0.00            \n",
      "Lin. dep.  - tries                  : 0                 time                   : 0.00            \n",
      "Lin. dep.  - number                 : 0               \n",
      "Presolve terminated. Time: 0.00    \n",
      "Optimizer terminated. Time: 0.00    \n",
      "\n"
     ]
    }
   ],
   "source": [
    "# Define the model\n",
    "m = Model(Mosek.Optimizer)\n",
    "\n",
    "@variable(m, x[1:2]);\n",
    "@constraint(m, x[1]+x[2]<=2.1)\n",
    "@constraint(m, x[1]>=0)\n",
    "@constraint(m, x[2]>=0)\n",
    "@constraint(m, x[2]>=3)\n",
    "# Add the constraint\n",
    "@objective(m,Max, x[1]+10*x[2])\n",
    "print(m)\n",
    "optimize!(m)"
   ]
  },
  {
   "cell_type": "code",
   "execution_count": 28,
   "id": "b8befb0c",
   "metadata": {},
   "outputs": [
    {
     "data": {
      "text/plain": [
       "2-element Vector{Float64}:\n",
       " 0.0\n",
       " 0.0"
      ]
     },
     "execution_count": 28,
     "metadata": {},
     "output_type": "execute_result"
    }
   ],
   "source": [
    "value.(x)"
   ]
  },
  {
   "cell_type": "code",
   "execution_count": 29,
   "id": "c6ddcf69",
   "metadata": {},
   "outputs": [
    {
     "data": {
      "text/plain": [
       "* Solver : Mosek\n",
       "\n",
       "* Status\n",
       "  Result count       : 2\n",
       "  Termination status : INFEASIBLE\n",
       "  Message from the solver:\n",
       "  \"Mosek.MSK_SOL_STA_PRIM_INFEAS_CER, Mosek.MSK_SOL_STA_PRIM_INFEAS_CER\"\n",
       "\n",
       "* Candidate solution (result #1)\n",
       "  Primal status      : NO_SOLUTION\n",
       "  Dual status        : INFEASIBILITY_CERTIFICATE\n",
       "  Objective value    : 0.00000e+00\n",
       "  Objective bound    : 0.00000e+00\n",
       "  Relative gap       : 0.00000e+00\n",
       "  Dual objective value : -9.00000e-01\n",
       "\n",
       "* Work counters\n",
       "  Solve time (sec)   : 0.00000e+00\n",
       "  Simplex iterations : 0\n",
       "  Barrier iterations : 0\n",
       "  Node count         : 0\n"
      ]
     },
     "execution_count": 29,
     "metadata": {},
     "output_type": "execute_result"
    }
   ],
   "source": [
    "solution_summary(m)"
   ]
  },
  {
   "cell_type": "code",
   "execution_count": 33,
   "id": "51f85bda",
   "metadata": {},
   "outputs": [
    {
     "data": {
      "text/latex": [
       "$$ \\begin{aligned}\n",
       "\\max\\quad & x_{1} + 10 x_{2}\\\\\n",
       "\\text{Subject to} \\quad & x_{1} \\geq 0.0\\\\\n",
       " & x_{2} \\geq 0.0\\\\\n",
       " & x_{1} + x_{2} \\leq 2.1\\\\\n",
       " & x_{2} \\leq 2.0\\\\\n",
       " & x_{1} \\leq 0.0\\\\\n",
       "\\end{aligned} $$"
      ]
     },
     "metadata": {},
     "output_type": "display_data"
    },
    {
     "name": "stdout",
     "output_type": "stream",
     "text": [
      "Problem\n",
      "  Name                   :                 \n",
      "  Objective sense        : maximize        \n",
      "  Type                   : LO (linear optimization problem)\n",
      "  Constraints            : 5               \n",
      "  Affine conic cons.     : 0               \n",
      "  Disjunctive cons.      : 0               \n",
      "  Cones                  : 0               \n",
      "  Scalar variables       : 2               \n",
      "  Matrix variables       : 0               \n",
      "  Integer variables      : 0               \n",
      "\n",
      "Optimizer started.\n",
      "Presolve started.\n",
      "Eliminator started.\n",
      "Freed constraints in eliminator : 0\n",
      "Eliminator terminated.\n",
      "Eliminator - tries                  : 1                 time                   : 0.00            \n",
      "Lin. dep.  - tries                  : 0                 time                   : 0.00            \n",
      "Lin. dep.  - number                 : 0               \n",
      "Presolve terminated. Time: 0.00    \n",
      "Optimizer terminated. Time: 0.00    \n",
      "\n"
     ]
    },
    {
     "data": {
      "text/plain": [
       "2-element Vector{Float64}:\n",
       " 0.0\n",
       " 2.0"
      ]
     },
     "execution_count": 33,
     "metadata": {},
     "output_type": "execute_result"
    }
   ],
   "source": [
    "m = Model(Mosek.Optimizer)\n",
    "@variable(m, x[1:2]);\n",
    "@constraint(m, x[1]+x[2]<=2.1)\n",
    "@constraint(m, x[1]>=0)\n",
    "@constraint(m, x[2]>=0)\n",
    "@constraint(m, x[2]<=2)\n",
    "@constraint(m, x[1]<=0)\n",
    "# Add the constraint\n",
    "@objective(m,Max, x[1]+10*x[2])\n",
    "print(m)\n",
    "optimize!(m)\n",
    "value.(x)"
   ]
  },
  {
   "cell_type": "code",
   "execution_count": 34,
   "id": "38a400d8",
   "metadata": {},
   "outputs": [
    {
     "data": {
      "text/latex": [
       "$$ \\begin{aligned}\n",
       "\\max\\quad & x_{1} + 10 x_{2}\\\\\n",
       "\\text{Subject to} \\quad & x_{1} \\geq 0.0\\\\\n",
       " & x_{2} \\geq 0.0\\\\\n",
       " & x_{1} \\geq 1.0\\\\\n",
       " & x_{1} + x_{2} \\leq 2.1\\\\\n",
       " & x_{2} \\leq 2.0\\\\\n",
       "\\end{aligned} $$"
      ]
     },
     "metadata": {},
     "output_type": "display_data"
    },
    {
     "name": "stdout",
     "output_type": "stream",
     "text": [
      "Problem\n",
      "  Name                   :                 \n",
      "  Objective sense        : maximize        \n",
      "  Type                   : LO (linear optimization problem)\n",
      "  Constraints            : 5               \n",
      "  Affine conic cons.     : 0               \n",
      "  Disjunctive cons.      : 0               \n",
      "  Cones                  : 0               \n",
      "  Scalar variables       : 2               \n",
      "  Matrix variables       : 0               \n",
      "  Integer variables      : 0               \n",
      "\n",
      "Optimizer started.\n",
      "Presolve started.\n",
      "Eliminator started.\n",
      "Freed constraints in eliminator : 0\n",
      "Eliminator terminated.\n",
      "Eliminator - tries                  : 1                 time                   : 0.00            \n",
      "Lin. dep.  - tries                  : 0                 time                   : 0.00            \n",
      "Lin. dep.  - number                 : 0               \n",
      "Presolve terminated. Time: 0.00    \n",
      "Optimizer terminated. Time: 0.00    \n",
      "\n"
     ]
    },
    {
     "data": {
      "text/plain": [
       "2-element Vector{Float64}:\n",
       " 1.0\n",
       " 1.1"
      ]
     },
     "execution_count": 34,
     "metadata": {},
     "output_type": "execute_result"
    }
   ],
   "source": [
    "m = Model(Mosek.Optimizer)\n",
    "@variable(m, x[1:2]);\n",
    "@constraint(m, x[1]+x[2]<=2.1)\n",
    "@constraint(m, x[1]>=0)\n",
    "@constraint(m, x[2]>=0)\n",
    "@constraint(m, x[2]<=2)\n",
    "@constraint(m, x[1]>=1)\n",
    "# Add the constraint\n",
    "@objective(m,Max, x[1]+10*x[2])\n",
    "print(m)\n",
    "optimize!(m)\n",
    "value.(x)"
   ]
  }
 ],
 "metadata": {
  "kernelspec": {
   "display_name": "Julia 1.8.5",
   "language": "julia",
   "name": "julia-1.8"
  },
  "language_info": {
   "file_extension": ".jl",
   "mimetype": "application/julia",
   "name": "julia",
   "version": "1.8.5"
  }
 },
 "nbformat": 4,
 "nbformat_minor": 5
}
